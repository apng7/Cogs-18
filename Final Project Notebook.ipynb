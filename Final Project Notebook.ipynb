{
 "cells": [
  {
   "cell_type": "markdown",
   "metadata": {},
   "source": [
    "###### Block analysis and workout optimizer\n",
    "\n",
    "In powerlifting training, programmed workouts in one-month intervals are called \"blocks.\" This project takes a completed block in an excel file (formatted: Week | Day | Lift | Weight (kg) | BW) and checks each of the competition lifts to see if the weights that were lifted are optimal. The submitted block is in that format. If the weights from that block were too high, a warning to stop overshooting, or lifting too heavily, will appear. If the weights from that block were too low two weeks in a row, the program will ask suggest specific workouts that should be incorporated into the next block in order to improve training. If the weights lifted from that block is optimal, \"Pocket work\" will appear, which is encouragement to continue doing what was done. The weight limits are adapted values from the Prilepins Optimal Range chart as well as my personal workouts. \n",
    "\n",
    "For COGS 18 purposes, this program will only check the weights lifted for the \"Squat\" lift. To continue with this project, checks for the \"Paused Bench\" lift and the \"Sumo Deadlift\" lift should be integrated. \n",
    "\n",
    "This program is also specifically for the \"Accumulation\" phase of the the block periodized program. To continue with this project, the conditionals for the suggestions should change to those for the \"Transmutation,\" \"Realization,\" and \"Restoration/Deload\" blocks. \n"
   ]
  },
  {
   "cell_type": "code",
   "execution_count": 1,
   "metadata": {},
   "outputs": [],
   "source": [
    "from wilksoptimizer import *"
   ]
  },
  {
   "cell_type": "code",
   "execution_count": 2,
   "metadata": {},
   "outputs": [
    {
     "name": "stdout",
     "output_type": "stream",
     "text": [
      "What is your 1 rep max for the squat? (kilograms)100\n",
      "What was your bodyweight at the time when you attempted this lift? (kilograms)66\n"
     ]
    },
    {
     "data": {
      "text/plain": [
       "'Stop overshooting or you might get injured!'"
      ]
     },
     "execution_count": 2,
     "metadata": {},
     "output_type": "execute_result"
    }
   ],
   "source": [
    "#To get 'Pocket work' as an output, enter as floats or int: 150 for 1rm and 66 for bodyweight. This will change the upper and lower limits of the condition for the values in the block. \n",
    "#To get accessory suggestions as an output, enter as floats or int: 200 for 1rm and 66 for bodyweight. This means the weights from the block are too low for the given max.\n",
    "#To get an overshoot warning as an output, enter as floats or int: 100 for 1rm and 66 for bodyweight. This means the weights from the block are too high and that you are overtraining.\n",
    "\n",
    "#The suggestion questions should be answered as 'y' or 'n' only. \n",
    "opt = SquatOptimizer()\n",
    "#This method executes the program\n",
    "opt.compare_wilks()"
   ]
  },
  {
   "cell_type": "markdown",
   "metadata": {},
   "source": []
  }
 ],
 "metadata": {
  "kernelspec": {
   "display_name": "Python 3",
   "language": "python",
   "name": "python3"
  },
  "language_info": {
   "codemirror_mode": {
    "name": "ipython",
    "version": 3
   },
   "file_extension": ".py",
   "mimetype": "text/x-python",
   "name": "python",
   "nbconvert_exporter": "python",
   "pygments_lexer": "ipython3",
   "version": "3.6.7"
  }
 },
 "nbformat": 4,
 "nbformat_minor": 2
}
