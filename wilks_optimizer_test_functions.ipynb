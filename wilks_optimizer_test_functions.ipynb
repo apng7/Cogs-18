{
 "cells": [
  {
   "cell_type": "code",
   "execution_count": 1,
   "metadata": {},
   "outputs": [],
   "source": [
    "from wilksoptimizer import *\n",
    "\n",
    "ws = WilksScore()\n",
    "sopt = SquatOptimizer()"
   ]
  },
  {
   "cell_type": "code",
   "execution_count": 2,
   "metadata": {},
   "outputs": [
    {
     "name": "stdout",
     "output_type": "stream",
     "text": [
      "What is your 1 rep max for the squat? (kilograms)12\n",
      "What was your bodyweight at the time when you attempted this lift? (kilograms)3\n"
     ]
    }
   ],
   "source": [
    "assert isinstance(ws.wilks_coefficient(66), float)\n",
    "assert isinstance(ws.calc_wilks_score(), list)\n",
    "assert isinstance(sopt.ask_max_and_convert(), float) #Enter any number"
   ]
  },
  {
   "cell_type": "code",
   "execution_count": 3,
   "metadata": {},
   "outputs": [],
   "source": [
    "assert ws.calc_wilks_score() == [105.04893253656917,\n",
    "                                 78.341576806932935,\n",
    "                                 76.561086424957196,\n",
    "                                 80.122067188908687]\n",
    "assert ws.wilks_coefficient(66) == 0.7851962584513051"
   ]
  },
  {
   "cell_type": "code",
   "execution_count": null,
   "metadata": {},
   "outputs": [],
   "source": []
  }
 ],
 "metadata": {
  "kernelspec": {
   "display_name": "Python 3",
   "language": "python",
   "name": "python3"
  },
  "language_info": {
   "codemirror_mode": {
    "name": "ipython",
    "version": 3
   },
   "file_extension": ".py",
   "mimetype": "text/x-python",
   "name": "python",
   "nbconvert_exporter": "python",
   "pygments_lexer": "ipython3",
   "version": "3.6.7"
  }
 },
 "nbformat": 4,
 "nbformat_minor": 2
}
